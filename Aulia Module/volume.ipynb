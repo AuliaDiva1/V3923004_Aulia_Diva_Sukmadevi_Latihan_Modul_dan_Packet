{
 "cells": [
  {
   "cell_type": "code",
   "execution_count": null,
   "id": "e5b52bdd",
   "metadata": {},
   "outputs": [],
   "source": [
    "import math\n",
    "\n",
    "def kubus(sisi):\n",
    "    return sisi**3\n",
    "\n",
    "def balok(panjang, lebar, tinggi):\n",
    "    return panjang*lebar*tinggi\n",
    "\n",
    "def tabung(jari_jari, tinggi):\n",
    "    return math.pi*jari_jari**2*tinggi\n",
    "\n",
    "def kerucut(jari_jari, tinggi):\n",
    "    return 1/3*math.pi*jari_jari**2*tinggi\n",
    "\n",
    "def limas(alas, tinggi):\n",
    "    return 1/3*alas*tinggi\n",
    "\n",
    "def prisma(alas, tinggi_prisma):\n",
    "    return alas*tinggi_prisma"
   ]
  }
 ],
 "metadata": {
  "kernelspec": {
   "display_name": "Python 3 (ipykernel)",
   "language": "python",
   "name": "python3"
  },
  "language_info": {
   "codemirror_mode": {
    "name": "ipython",
    "version": 3
   },
   "file_extension": ".py",
   "mimetype": "text/x-python",
   "name": "python",
   "nbconvert_exporter": "python",
   "pygments_lexer": "ipython3",
   "version": "3.11.5"
  }
 },
 "nbformat": 4,
 "nbformat_minor": 5
}
