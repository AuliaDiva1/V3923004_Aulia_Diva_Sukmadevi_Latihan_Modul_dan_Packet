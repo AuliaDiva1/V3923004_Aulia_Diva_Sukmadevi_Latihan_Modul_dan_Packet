{
 "cells": [
  {
   "cell_type": "code",
   "execution_count": null,
   "id": "1f4d98c3",
   "metadata": {},
   "outputs": [],
   "source": [
    "import math\n",
    "\n",
    "def persegi(sisi):\n",
    "    return sisi**2\n",
    "\n",
    "def persegi_panjang(panjang, lebar):\n",
    "    return panjang*lebar\n",
    "\n",
    "def segitiga(alas, tinggi):\n",
    "    return 0.5*alas*tinggi\n",
    "\n",
    "def lingkaran(jari_jari):\n",
    "    return math.pi*jari_jari**2\n",
    "\n",
    "def jajar_genjang(alas, tinggi):\n",
    "    return alas*tinggi\n",
    "\n",
    "def trapesium(sisi_a, sisi_b, tinggi):\n",
    "    return 0.5*(sisi_a+sisi_b)*tinggi"
   ]
  }
 ],
 "metadata": {
  "kernelspec": {
   "display_name": "Python 3 (ipykernel)",
   "language": "python",
   "name": "python3"
  },
  "language_info": {
   "codemirror_mode": {
    "name": "ipython",
    "version": 3
   },
   "file_extension": ".py",
   "mimetype": "text/x-python",
   "name": "python",
   "nbconvert_exporter": "python",
   "pygments_lexer": "ipython3",
   "version": "3.11.5"
  }
 },
 "nbformat": 4,
 "nbformat_minor": 5
}
